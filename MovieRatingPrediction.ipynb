{
 "cells": [
  {
   "cell_type": "markdown",
   "source": [
    "# Movie Rating Prediction\n",
    "\n",
    "Here, we aim to predict the user rating of a movie given a director and a cast. We use the 'vote_average' feature in our dataset as the rating. Our dataset includes various features but for this task, we only use 'director' and 'cast'.\n",
    "\n",
    "We try two different models to achieve this: Linear Regression and RandomForestRegressor.\n"
   ],
   "metadata": {
    "collapsed": false
   }
  },
  {
   "cell_type": "code",
   "execution_count": 1,
   "outputs": [],
   "source": [
    "import pandas as pd\n",
    "from sklearn.model_selection import train_test_split\n",
    "from sklearn.linear_model import LinearRegression\n",
    "from sklearn.metrics import mean_squared_error\n",
    "from sklearn.preprocessing import MultiLabelBinarizer\n",
    "from sklearn.ensemble import RandomForestRegressor"
   ],
   "metadata": {
    "collapsed": false,
    "ExecuteTime": {
     "end_time": "2023-07-05T11:47:55.983467Z",
     "start_time": "2023-07-05T11:47:54.922354800Z"
    }
   }
  },
  {
   "cell_type": "markdown",
   "source": [
    "We start by loading our movie dataset. We prepare our data by filling any missing director and cast information with 'Unknown'. We also transform the 'cast' feature from a string of actors to a list of actors."
   ],
   "metadata": {
    "collapsed": false
   }
  },
  {
   "cell_type": "code",
   "execution_count": 2,
   "outputs": [],
   "source": [
    "# Load the data\n",
    "movies = pd.read_csv('movie_dataset.csv')\n",
    "\n",
    "# Fill missing directors and cast with 'Unknown'\n",
    "movies['director'].fillna('Unknown', inplace=True)\n",
    "movies['cast'].fillna('Unknown', inplace=True)\n",
    "\n",
    "# Convert 'cast' feature from string to list of actors\n",
    "movies['cast'] = movies['cast'].apply(lambda x: x.split())"
   ],
   "metadata": {
    "collapsed": false,
    "ExecuteTime": {
     "end_time": "2023-07-05T11:47:57.573627600Z",
     "start_time": "2023-07-05T11:47:57.255746400Z"
    }
   }
  },
  {
   "cell_type": "markdown",
   "source": [
    "We then perform one-hot encoding on the 'director' feature, and use the MultiLabelBinarizer to encode the 'cast' feature since each movie can have multiple actors."
   ],
   "metadata": {
    "collapsed": false
   }
  },
  {
   "cell_type": "code",
   "execution_count": 3,
   "outputs": [],
   "source": [
    "# One-hot encoding for director and cast\n",
    "director_encoded = pd.get_dummies(movies['director'])\n",
    "cast_encoder = MultiLabelBinarizer()\n",
    "cast_encoded = pd.DataFrame(cast_encoder.fit_transform(movies['cast']), columns=cast_encoder.classes_)\n",
    "\n",
    "# Combine encoded features\n",
    "movies_encoded = pd.concat([director_encoded, cast_encoded], axis=1)"
   ],
   "metadata": {
    "collapsed": false,
    "ExecuteTime": {
     "end_time": "2023-07-05T11:48:02.573608100Z",
     "start_time": "2023-07-05T11:48:02.048814700Z"
    }
   }
  },
  {
   "cell_type": "markdown",
   "source": [
    "The first model we try is a simple Linear Regression model."
   ],
   "metadata": {
    "collapsed": false
   }
  },
  {
   "cell_type": "code",
   "execution_count": 4,
   "outputs": [
    {
     "name": "stdout",
     "output_type": "stream",
     "text": [
      "Mean Squared Error: 4.9634122165806904e+26\n"
     ]
    }
   ],
   "source": [
    "# Train-test split\n",
    "X_train, X_test, y_train, y_test = train_test_split(movies_encoded, movies['vote_average'], test_size=0.2, random_state=42)\n",
    "\n",
    "# Train a regression model\n",
    "model = LinearRegression()\n",
    "model.fit(X_train, y_train)\n",
    "\n",
    "# Evaluate the model\n",
    "y_pred = model.predict(X_test)\n",
    "mse = mean_squared_error(y_test, y_pred)\n",
    "\n",
    "# Print the MSE\n",
    "print(\"Mean Squared Error:\", mse)"
   ],
   "metadata": {
    "collapsed": false,
    "ExecuteTime": {
     "end_time": "2023-07-05T11:48:32.293939Z",
     "start_time": "2023-07-05T11:48:04.425173800Z"
    }
   }
  },
  {
   "cell_type": "markdown",
   "source": [
    "But the Mean Squared Error (MSE) was not so good.\n",
    "\n",
    "To potentially improve our model, we decided to switch to a Random Forest Regressor. Random Forests are known to work well with a large number of features and can model complex interactions. However, when we initially tried running the RandomForestRegressor with the default parameters, the model was taking a very long time to train."
   ],
   "metadata": {
    "collapsed": false
   }
  },
  {
   "cell_type": "code",
   "execution_count": 5,
   "outputs": [],
   "source": [
    "# Train a Random Forest model\n",
    "# model = RandomForestRegressor(n_estimators=100, random_state=42) # Commenting this line as it took too long\n",
    "# model.fit(X_train, y_train)"
   ],
   "metadata": {
    "collapsed": false,
    "ExecuteTime": {
     "end_time": "2023-07-05T11:48:39.044423900Z",
     "start_time": "2023-07-05T11:48:39.022527500Z"
    }
   }
  },
  {
   "cell_type": "markdown",
   "source": [
    "To address this issue, we reduced the number of trees in the forest (n_estimators), limited the maximum depth of the trees (max_depth), and set a minimum number of samples required to be at a leaf node (min_samples_leaf).\n",
    "\n",
    "This made the model faster to train, but could potentially decrease its performance."
   ],
   "metadata": {
    "collapsed": false
   }
  },
  {
   "cell_type": "code",
   "execution_count": 12,
   "outputs": [
    {
     "name": "stdout",
     "output_type": "stream",
     "text": [
      "Mean Squared Error: 1.3292070000896272\n",
      "\n",
      "                                       Movie  Prediction  Actual Rating\n",
      "596                                    I Spy         6.1            5.2\n",
      "3372                            Split Second         6.1            5.7\n",
      "2702                                  Gossip         6.2            5.5\n",
      "2473                Vicky Cristina Barcelona         6.2            6.7\n",
      "8     Harry Potter and the Half-Blood Prince         6.2            7.4\n",
      "...                                      ...         ...            ...\n",
      "2801                             The Funeral         6.2            7.3\n",
      "198                                 R.I.P.D.         6.2            5.4\n",
      "2423                            Summer Catch         6.1            4.8\n",
      "2298                               Sex Drive         6.2            6.0\n",
      "402                              The Rundown         6.2            6.4\n",
      "\n",
      "[961 rows x 3 columns]\n"
     ]
    }
   ],
   "source": [
    "# Train a Random Forest model with modified parameters to speed up the training\n",
    "model = RandomForestRegressor(n_estimators=50, max_depth=10, min_samples_leaf=4, random_state=42)\n",
    "model.fit(X_train, y_train)\n",
    "\n",
    "# Evaluate the model\n",
    "y_pred = model.predict(X_test)\n",
    "mse = mean_squared_error(y_test, y_pred)\n",
    "\n",
    "# Print the MSE\n",
    "print(\"Mean Squared Error:\", mse)\n",
    "print()\n",
    "\n",
    "# Create a table to display the predictions and actual values\n",
    "table = pd.DataFrame({'Movie': movies.loc[y_test.index, 'title'],\n",
    "                      'Prediction': y_pred.round(1),\n",
    "                      'Actual Rating': y_test})\n",
    "\n",
    "# Print the table\n",
    "print(table)"
   ],
   "metadata": {
    "collapsed": false,
    "ExecuteTime": {
     "end_time": "2023-07-05T14:13:52.091770600Z",
     "start_time": "2023-07-05T14:13:04.168734500Z"
    }
   }
  },
  {
   "cell_type": "markdown",
   "source": [
    "In conclusion, we started with a simple linear regression model and then moved to a more complex random forest regressor to better capture the complexity of our data."
   ],
   "metadata": {
    "collapsed": false
   }
  }
 ],
 "metadata": {
  "kernelspec": {
   "display_name": "Python 3",
   "language": "python",
   "name": "python3"
  },
  "language_info": {
   "codemirror_mode": {
    "name": "ipython",
    "version": 2
   },
   "file_extension": ".py",
   "mimetype": "text/x-python",
   "name": "python",
   "nbconvert_exporter": "python",
   "pygments_lexer": "ipython2",
   "version": "2.7.6"
  }
 },
 "nbformat": 4,
 "nbformat_minor": 0
}
