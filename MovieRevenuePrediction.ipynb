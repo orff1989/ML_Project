{
 "cells": [
  {
   "cell_type": "markdown",
   "source": [
    "# Movie Revenue Prediction\n",
    "\n"
   ],
   "metadata": {
    "collapsed": false
   }
  },
  {
   "cell_type": "markdown",
   "source": [
    "**1. Summery**\n",
    "Here, we will build a machine learning model to predict the revenue of movies based on different attributes. We will use a linear regression model, and Random Forest."
   ],
   "metadata": {
    "collapsed": false
   }
  },
  {
   "cell_type": "markdown",
   "source": [
    "**2. Data Loading and Preprocessing**"
   ],
   "metadata": {
    "collapsed": false
   }
  },
  {
   "cell_type": "code",
   "execution_count": 38,
   "outputs": [
    {
     "name": "stdout",
     "output_type": "stream",
     "text": [
      "      index     budget                                    genres  \\\n",
      "0         0  237000000  Action Adventure Fantasy Science Fiction   \n",
      "1         1  300000000                  Adventure Fantasy Action   \n",
      "2         2  245000000                    Action Adventure Crime   \n",
      "3         3  250000000               Action Crime Drama Thriller   \n",
      "4         4  260000000          Action Adventure Science Fiction   \n",
      "...     ...        ...                                       ...   \n",
      "4798   4798     220000                     Action Crime Thriller   \n",
      "4799   4799       9000                            Comedy Romance   \n",
      "4800   4800          0             Comedy Drama Romance TV Movie   \n",
      "4801   4801          0                                       NaN   \n",
      "4802   4802          0                               Documentary   \n",
      "\n",
      "                                               homepage      id  \\\n",
      "0                           http://www.avatarmovie.com/   19995   \n",
      "1          http://disney.go.com/disneypictures/pirates/     285   \n",
      "2           http://www.sonypictures.com/movies/spectre/  206647   \n",
      "3                    http://www.thedarkknightrises.com/   49026   \n",
      "4                  http://movies.disney.com/john-carter   49529   \n",
      "...                                                 ...     ...   \n",
      "4798                                                NaN    9367   \n",
      "4799                                                NaN   72766   \n",
      "4800  http://www.hallmarkchannel.com/signedsealeddel...  231617   \n",
      "4801                        http://shanghaicalling.com/  126186   \n",
      "4802                                                NaN   25975   \n",
      "\n",
      "                                               keywords original_language  \\\n",
      "0     culture clash future space war space colony so...                en   \n",
      "1     ocean drug abuse exotic island east india trad...                en   \n",
      "2            spy based on novel secret agent sequel mi6                en   \n",
      "3     dc comics crime fighter terrorist secret ident...                en   \n",
      "4     based on novel mars medallion space travel pri...                en   \n",
      "...                                                 ...               ...   \n",
      "4798  united states\\u2013mexico barrier legs arms pa...                es   \n",
      "4799                                                NaN                en   \n",
      "4800  date love at first sight narration investigati...                en   \n",
      "4801                                                NaN                en   \n",
      "4802               obsession camcorder crush dream girl                en   \n",
      "\n",
      "                                original_title  \\\n",
      "0                                       Avatar   \n",
      "1     Pirates of the Caribbean: At World's End   \n",
      "2                                      Spectre   \n",
      "3                        The Dark Knight Rises   \n",
      "4                                  John Carter   \n",
      "...                                        ...   \n",
      "4798                               El Mariachi   \n",
      "4799                                 Newlyweds   \n",
      "4800                 Signed, Sealed, Delivered   \n",
      "4801                          Shanghai Calling   \n",
      "4802                         My Date with Drew   \n",
      "\n",
      "                                               overview  popularity  ...  \\\n",
      "0     In the 22nd century, a paraplegic Marine is di...  150.437577  ...   \n",
      "1     Captain Barbossa, long believed to be dead, ha...  139.082615  ...   \n",
      "2     A cryptic message from Bond’s past sends him o...  107.376788  ...   \n",
      "3     Following the death of District Attorney Harve...  112.312950  ...   \n",
      "4     John Carter is a war-weary, former military ca...   43.926995  ...   \n",
      "...                                                 ...         ...  ...   \n",
      "4798  El Mariachi just wants to play his guitar and ...   14.269792  ...   \n",
      "4799  A newlywed couple's honeymoon is upended by th...    0.642552  ...   \n",
      "4800  \"Signed, Sealed, Delivered\" introduces a dedic...    1.444476  ...   \n",
      "4801  When ambitious New York attorney Sam is sent t...    0.857008  ...   \n",
      "4802  Ever since the second grade when he first saw ...    1.929883  ...   \n",
      "\n",
      "     runtime                                   spoken_languages    status  \\\n",
      "0      162.0  [{\"iso_639_1\": \"en\", \"name\": \"English\"}, {\"iso...  Released   \n",
      "1      169.0           [{\"iso_639_1\": \"en\", \"name\": \"English\"}]  Released   \n",
      "2      148.0  [{\"iso_639_1\": \"fr\", \"name\": \"Fran\\u00e7ais\"},...  Released   \n",
      "3      165.0           [{\"iso_639_1\": \"en\", \"name\": \"English\"}]  Released   \n",
      "4      132.0           [{\"iso_639_1\": \"en\", \"name\": \"English\"}]  Released   \n",
      "...      ...                                                ...       ...   \n",
      "4798    81.0      [{\"iso_639_1\": \"es\", \"name\": \"Espa\\u00f1ol\"}]  Released   \n",
      "4799    85.0                                                 []  Released   \n",
      "4800   120.0           [{\"iso_639_1\": \"en\", \"name\": \"English\"}]  Released   \n",
      "4801    98.0           [{\"iso_639_1\": \"en\", \"name\": \"English\"}]  Released   \n",
      "4802    90.0           [{\"iso_639_1\": \"en\", \"name\": \"English\"}]  Released   \n",
      "\n",
      "                                                tagline  \\\n",
      "0                           Enter the World of Pandora.   \n",
      "1        At the end of the world, the adventure begins.   \n",
      "2                                 A Plan No One Escapes   \n",
      "3                                       The Legend Ends   \n",
      "4                  Lost in our world, found in another.   \n",
      "...                                                 ...   \n",
      "4798  He didn't come looking for trouble, but troubl...   \n",
      "4799  A newlywed couple's honeymoon is upended by th...   \n",
      "4800                                                NaN   \n",
      "4801                           A New Yorker in Shanghai   \n",
      "4802                                                NaN   \n",
      "\n",
      "                                         title vote_average vote_count  \\\n",
      "0                                       Avatar          7.2      11800   \n",
      "1     Pirates of the Caribbean: At World's End          6.9       4500   \n",
      "2                                      Spectre          6.3       4466   \n",
      "3                        The Dark Knight Rises          7.6       9106   \n",
      "4                                  John Carter          6.1       2124   \n",
      "...                                        ...          ...        ...   \n",
      "4798                               El Mariachi          6.6        238   \n",
      "4799                                 Newlyweds          5.9          5   \n",
      "4800                 Signed, Sealed, Delivered          7.0          6   \n",
      "4801                          Shanghai Calling          5.7          7   \n",
      "4802                         My Date with Drew          6.3         16   \n",
      "\n",
      "                                                   cast  \\\n",
      "0     Sam Worthington Zoe Saldana Sigourney Weaver S...   \n",
      "1     Johnny Depp Orlando Bloom Keira Knightley Stel...   \n",
      "2     Daniel Craig Christoph Waltz L\\u00e9a Seydoux ...   \n",
      "3     Christian Bale Michael Caine Gary Oldman Anne ...   \n",
      "4     Taylor Kitsch Lynn Collins Samantha Morton Wil...   \n",
      "...                                                 ...   \n",
      "4798  Carlos Gallardo Jaime de Hoyos Peter Marquardt...   \n",
      "4799  Edward Burns Kerry Bish\\u00e9 Marsha Dietlein ...   \n",
      "4800  Eric Mabius Kristin Booth Crystal Lowe Geoff G...   \n",
      "4801  Daniel Henney Eliza Coupe Bill Paxton Alan Ruc...   \n",
      "4802  Drew Barrymore Brian Herzlinger Corey Feldman ...   \n",
      "\n",
      "                                                   crew           director  \n",
      "0     [{'name': 'Stephen E. Rivkin', 'gender': 0, 'd...      James Cameron  \n",
      "1     [{'name': 'Dariusz Wolski', 'gender': 2, 'depa...     Gore Verbinski  \n",
      "2     [{'name': 'Thomas Newman', 'gender': 2, 'depar...         Sam Mendes  \n",
      "3     [{'name': 'Hans Zimmer', 'gender': 2, 'departm...  Christopher Nolan  \n",
      "4     [{'name': 'Andrew Stanton', 'gender': 2, 'depa...     Andrew Stanton  \n",
      "...                                                 ...                ...  \n",
      "4798  [{'name': 'Robert Rodriguez', 'gender': 0, 'de...   Robert Rodriguez  \n",
      "4799  [{'name': 'Edward Burns', 'gender': 2, 'depart...       Edward Burns  \n",
      "4800  [{'name': 'Carla Hetland', 'gender': 0, 'depar...        Scott Smith  \n",
      "4801  [{'name': 'Daniel Hsia', 'gender': 2, 'departm...        Daniel Hsia  \n",
      "4802  [{'name': 'Clark Peterson', 'gender': 2, 'depa...   Brian Herzlinger  \n",
      "\n",
      "[4803 rows x 24 columns]\n"
     ]
    }
   ],
   "source": [
    "# Importing necessary libraries\n",
    "import pandas as pd\n",
    "import numpy as np\n",
    "from sklearn.model_selection import train_test_split\n",
    "from sklearn.linear_model import LinearRegression\n",
    "from sklearn.metrics import mean_squared_error\n",
    "from sklearn.ensemble import RandomForestRegressor\n",
    "from sklearn.preprocessing import StandardScaler\n",
    "\n",
    "# Load the data\n",
    "movies = pd.read_csv('movie_dataset.csv')\n",
    "\n",
    "# Fill missing directors with 'Unknown'\n",
    "movies['director'].fillna('Unknown', inplace=True)\n",
    "\n",
    "print(movies)"
   ],
   "metadata": {
    "collapsed": false,
    "ExecuteTime": {
     "end_time": "2023-07-05T14:46:27.934775900Z",
     "start_time": "2023-07-05T14:46:27.649292700Z"
    }
   }
  },
  {
   "cell_type": "markdown",
   "source": [
    "Here, we load the data and handle missing values in the 'director' feature by replacing them with 'Unknown'."
   ],
   "metadata": {
    "collapsed": false
   }
  },
  {
   "cell_type": "markdown",
   "source": [
    "**3. Model Building: Linear Regression (Director Only)**"
   ],
   "metadata": {
    "collapsed": false
   }
  },
  {
   "cell_type": "code",
   "execution_count": 39,
   "outputs": [
    {
     "name": "stdout",
     "output_type": "stream",
     "text": [
      "Mean Squared Error: 1.2390624272818453e+44\n"
     ]
    }
   ],
   "source": [
    "# One-hot encoding for director only\n",
    "movies_encoded = pd.get_dummies(movies['director'])\n",
    "\n",
    "# Train-test split\n",
    "X_train, X_test, y_train, y_test = train_test_split(movies_encoded, movies['revenue'], test_size=0.2, random_state=42)\n",
    "\n",
    "# Train a regression model\n",
    "model = LinearRegression()\n",
    "model.fit(X_train, y_train)\n",
    "\n",
    "# Evaluate the model\n",
    "y_pred = model.predict(X_test)\n",
    "mse = mean_squared_error(y_test, y_pred)\n",
    "\n",
    "print(\"Mean Squared Error:\", mse)"
   ],
   "metadata": {
    "collapsed": false,
    "ExecuteTime": {
     "end_time": "2023-07-05T14:47:22.899070300Z",
     "start_time": "2023-07-05T14:47:16.796165300Z"
    }
   }
  },
  {
   "cell_type": "markdown",
   "source": [
    "In this part, we built a simple linear regression model using only the 'director' feature. One-hot encoding was applied to handle categorical values. The model didn't perform well, so we thought the 'director' feature alone is not enough to predict movie revenue."
   ],
   "metadata": {
    "collapsed": false
   }
  },
  {
   "cell_type": "markdown",
   "source": [
    "**4. Model Building: Linear Regression (Director + Budget)**"
   ],
   "metadata": {
    "collapsed": false
   }
  },
  {
   "cell_type": "code",
   "execution_count": 40,
   "outputs": [
    {
     "name": "stdout",
     "output_type": "stream",
     "text": [
      "Mean Squared Error: 667029824.1574824\n"
     ]
    }
   ],
   "source": [
    "# Load the data\n",
    "movies = pd.read_csv('movie_dataset.csv')\n",
    "\n",
    "# Fill missing directors and budget with 'Unknown' and median respectively\n",
    "movies['director'].fillna('Unknown', inplace=True)\n",
    "movies['budget'].fillna(movies['budget'].median(), inplace=True)\n",
    "\n",
    "# Scale the revenue using StandardScaler\n",
    "scaler_revenue = StandardScaler()\n",
    "movies['revenue'] = scaler_revenue.fit_transform(movies['revenue'].values.reshape(-1, 1))\n",
    "\n",
    "# One-hot encoding for director\n",
    "movies_encoded = pd.get_dummies(movies['director'])\n",
    "\n",
    "# Combine encoded and budget features\n",
    "movies_final = pd.concat([movies['budget'], movies_encoded], axis=1)\n",
    "\n",
    "# Train-test split\n",
    "X_train, X_test, y_train, y_test = train_test_split(movies_final, movies['revenue'],\n",
    "                                                    test_size=0.2, random_state=42)\n",
    "\n",
    "# Train a regression model\n",
    "model = LinearRegression()\n",
    "model.fit(X_train, y_train)\n",
    "\n",
    "# Evaluate the model\n",
    "y_pred = model.predict(X_test)\n",
    "mse = mean_squared_error(y_test, y_pred)\n",
    "\n",
    "# Print the MSE\n",
    "print(\"Mean Squared Error:\", mse)"
   ],
   "metadata": {
    "collapsed": false,
    "ExecuteTime": {
     "end_time": "2023-07-05T14:48:42.911751200Z",
     "start_time": "2023-07-05T14:48:36.917234200Z"
    }
   }
  },
  {
   "cell_type": "markdown",
   "source": [
    "Here, we added the 'budget' feature in addition to the 'director' feature. The 'budget' values were also missing in some rows, so we replaced them with the median. To handle the skewness in 'revenue', we scale revenue using StandardScaler.\n",
    "\n",
    "However, this model still didn't perform well, because the mean squared error (MSE) was still quite high."
   ],
   "metadata": {
    "collapsed": false
   }
  },
  {
   "cell_type": "markdown",
   "source": [
    "***5. Model Building: Random Forest***"
   ],
   "metadata": {
    "collapsed": false
   }
  },
  {
   "cell_type": "code",
   "execution_count": 44,
   "outputs": [
    {
     "name": "stdout",
     "output_type": "stream",
     "text": [
      "                                       Movie  Prediction  Actual Revenue\n",
      "596                                    I Spy   212838966        33561137\n",
      "3372                            Split Second           0               5\n",
      "2702                                  Gossip     1290542         5108820\n",
      "2473                Vicky Cristina Barcelona    29312036        96408652\n",
      "8     Harry Potter and the Half-Blood Prince   818748805       933959197\n",
      "...                                      ...         ...             ...\n",
      "2801                             The Funeral     3648639         1227324\n",
      "198                                 R.I.P.D.   251096709        61648500\n",
      "2423                            Summer Catch    27197206        19693891\n",
      "2298                               Sex Drive    10657704        18755936\n",
      "402                              The Rundown   152897409        80916492\n",
      "\n",
      "[961 rows x 3 columns]\n",
      "\n",
      "Mean Squared Error: 0.3879626643869817\n",
      "                                       Movie  Prediction  Actual Revenue\n",
      "596                                    I Spy   212838966        33561137\n",
      "3372                            Split Second           0               5\n",
      "2702                                  Gossip     1290542         5108820\n",
      "2473                Vicky Cristina Barcelona    29312036        96408652\n",
      "8     Harry Potter and the Half-Blood Prince   818748805       933959197\n",
      "...                                      ...         ...             ...\n",
      "2801                             The Funeral     3648639         1227324\n",
      "198                                 R.I.P.D.   251096709        61648500\n",
      "2423                            Summer Catch    27197206        19693891\n",
      "2298                               Sex Drive    10657704        18755936\n",
      "402                              The Rundown   152897409        80916492\n",
      "\n",
      "[961 rows x 3 columns]\n",
      "\n",
      "Mean Squared Error: 0.3879626643869817\n"
     ]
    }
   ],
   "source": [
    "# Load the data\n",
    "movies = pd.read_csv('movie_dataset.csv')\n",
    "\n",
    "# Fill missing directors and budget with 'Unknown' and median respectively\n",
    "movies['director'].fillna('Unknown', inplace=True)\n",
    "movies['budget'].fillna(movies['budget'].median(), inplace=True)\n",
    "\n",
    "# Scale the revenue using StandardScaler\n",
    "scaler = StandardScaler()\n",
    "movies['revenue_scaled'] = scaler.fit_transform(movies['revenue'].values.reshape(-1, 1))\n",
    "\n",
    "# One-hot encoding for director\n",
    "movies_encoded = pd.get_dummies(movies['director'])\n",
    "\n",
    "# Combine encoded and budget features\n",
    "movies_final = pd.concat([movies['budget'], movies_encoded], axis=1)\n",
    "\n",
    "# Train-test split\n",
    "X_train, X_test, y_train, y_test = train_test_split(movies_final, movies['revenue_scaled'], test_size=0.2, random_state=42)\n",
    "\n",
    "# Train a random forest regression model\n",
    "model = RandomForestRegressor(n_estimators=100, random_state=42)\n",
    "model.fit(X_train, y_train)\n",
    "\n",
    "# Evaluate the model\n",
    "y_pred_scaled = model.predict(X_test)\n",
    "mse = mean_squared_error(y_test, y_pred_scaled)\n",
    "\n",
    "# Inverse transform the scaled predictions\n",
    "y_pred = scaler.inverse_transform(y_pred_scaled.reshape(-1, 1))\n",
    "\n",
    "# Create a table to display the predictions and actual values\n",
    "table = pd.DataFrame({'Movie': movies.loc[y_test.index, 'title'],\n",
    "                      'Prediction': y_pred.flatten().astype(int),\n",
    "                      'Actual Revenue': movies.loc[y_test.index, 'revenue'].astype(int)})\n",
    "\n",
    "# Print the table\n",
    "print(table)\n",
    "print()\n",
    "\n",
    "# Print the MSE\n",
    "print(\"Mean Squared Error:\", mse)"
   ],
   "metadata": {
    "collapsed": false
   }
  },
  {
   "cell_type": "markdown",
   "source": [
    "Finally, we switched to a Random Forest model. We continued to use the 'director' and 'budget' features but replaced the Linear Regression model with a Random Forest model, a robust ensemble learning method. it improved the model's performance. We got a much smaller MSE indicating a better fit to the data.\n",
    "\n",
    "In conclusion, we can say that the Random Forest model performed significantly better than the Linear Regression model in predicting movie revenue in our case. The inclusion of the 'budget' feature and the application of feature scaling also played a significant role in enhancing the model's performance."
   ],
   "metadata": {
    "collapsed": false
   }
  }
 ],
 "metadata": {
  "kernelspec": {
   "display_name": "Python 3",
   "language": "python",
   "name": "python3"
  },
  "language_info": {
   "codemirror_mode": {
    "name": "ipython",
    "version": 2
   },
   "file_extension": ".py",
   "mimetype": "text/x-python",
   "name": "python",
   "nbconvert_exporter": "python",
   "pygments_lexer": "ipython2",
   "version": "2.7.6"
  }
 },
 "nbformat": 4,
 "nbformat_minor": 0
}
