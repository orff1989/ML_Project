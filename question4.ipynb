{
 "cells": [
  {
   "cell_type": "markdown",
   "id": "de6ad1cc",
   "metadata": {},
   "source": [
    "# Import required libraries"
   ]
  },
  {
   "cell_type": "code",
   "execution_count": 1,
   "id": "94bac86e",
   "metadata": {},
   "outputs": [],
   "source": [
    "import pandas as pd\n",
    "import seaborn as sns\n",
    "import matplotlib.pyplot as plt\n",
    "sns.set_theme(style=\"whitegrid\")\n",
    "from sklearn import svm\n",
    "from sklearn.linear_model import Perceptron\n",
    "from sklearn.model_selection import train_test_split\n",
    "import numpy as np\n",
    "from sklearn.metrics import RocCurveDisplay\n",
    "from sklearn.metrics import accuracy_score, f1_score, precision_score, recall_score\n",
    "from sklearn.metrics import classification_report"
   ]
  },
  {
   "cell_type": "markdown",
   "id": "c8e72e07",
   "metadata": {},
   "source": [
    "# Reading the CSV file and creating a Dataframe"
   ]
  },
  {
   "cell_type": "code",
   "execution_count": 2,
   "id": "ca98651b",
   "metadata": {},
   "outputs": [],
   "source": [
    "file_path = './movie_dataset.csv'\n",
    "movies = pd.read_csv(file_path)\n",
    "# movies.head()"
   ]
  },
  {
   "cell_type": "markdown",
   "id": "b0c59170",
   "metadata": {},
   "source": [
    "Getting all the movies where the vote_count is below or equals to 500"
   ]
  },
  {
   "cell_type": "code",
   "execution_count": 3,
   "id": "085c0419",
   "metadata": {},
   "outputs": [],
   "source": [
    "# movies.loc[movies.vote_count <= 500]"
   ]
  },
  {
   "cell_type": "markdown",
   "id": "48312e76",
   "metadata": {},
   "source": [
    "See the number of NaN's in each column"
   ]
  },
  {
   "cell_type": "code",
   "execution_count": 4,
   "id": "286d94d3",
   "metadata": {},
   "outputs": [
    {
     "data": {
      "text/plain": [
       "index                      0\n",
       "budget                     0\n",
       "genres                    28\n",
       "homepage                3091\n",
       "id                         0\n",
       "keywords                 412\n",
       "original_language          0\n",
       "original_title             0\n",
       "overview                   3\n",
       "popularity                 0\n",
       "production_companies       0\n",
       "production_countries       0\n",
       "release_date               1\n",
       "revenue                    0\n",
       "runtime                    2\n",
       "spoken_languages           0\n",
       "status                     0\n",
       "tagline                  844\n",
       "title                      0\n",
       "vote_average               0\n",
       "vote_count                 0\n",
       "cast                      43\n",
       "crew                       0\n",
       "director                  30\n",
       "dtype: int64"
      ]
     },
     "execution_count": 4,
     "metadata": {},
     "output_type": "execute_result"
    }
   ],
   "source": [
    "movies.isna().sum()"
   ]
  },
  {
   "cell_type": "markdown",
   "id": "a577e005",
   "metadata": {},
   "source": [
    "# Checking and playing with the data"
   ]
  },
  {
   "cell_type": "code",
   "execution_count": 5,
   "id": "1fdb0c96",
   "metadata": {},
   "outputs": [
    {
     "data": {
      "text/html": [
       "<div>\n",
       "<style scoped>\n",
       "    .dataframe tbody tr th:only-of-type {\n",
       "        vertical-align: middle;\n",
       "    }\n",
       "\n",
       "    .dataframe tbody tr th {\n",
       "        vertical-align: top;\n",
       "    }\n",
       "\n",
       "    .dataframe thead th {\n",
       "        text-align: right;\n",
       "    }\n",
       "</style>\n",
       "<table border=\"1\" class=\"dataframe\">\n",
       "  <thead>\n",
       "    <tr style=\"text-align: right;\">\n",
       "      <th></th>\n",
       "      <th>revenue</th>\n",
       "      <th>director</th>\n",
       "      <th>runtime</th>\n",
       "    </tr>\n",
       "  </thead>\n",
       "  <tbody>\n",
       "    <tr>\n",
       "      <th>0</th>\n",
       "      <td>2787965087</td>\n",
       "      <td>James Cameron</td>\n",
       "      <td>162.0</td>\n",
       "    </tr>\n",
       "    <tr>\n",
       "      <th>1</th>\n",
       "      <td>961000000</td>\n",
       "      <td>Gore Verbinski</td>\n",
       "      <td>169.0</td>\n",
       "    </tr>\n",
       "    <tr>\n",
       "      <th>2</th>\n",
       "      <td>880674609</td>\n",
       "      <td>Sam Mendes</td>\n",
       "      <td>148.0</td>\n",
       "    </tr>\n",
       "    <tr>\n",
       "      <th>3</th>\n",
       "      <td>1084939099</td>\n",
       "      <td>Christopher Nolan</td>\n",
       "      <td>165.0</td>\n",
       "    </tr>\n",
       "    <tr>\n",
       "      <th>4</th>\n",
       "      <td>284139100</td>\n",
       "      <td>Andrew Stanton</td>\n",
       "      <td>132.0</td>\n",
       "    </tr>\n",
       "    <tr>\n",
       "      <th>...</th>\n",
       "      <td>...</td>\n",
       "      <td>...</td>\n",
       "      <td>...</td>\n",
       "    </tr>\n",
       "    <tr>\n",
       "      <th>4775</th>\n",
       "      <td>76901</td>\n",
       "      <td>Andrew Bujalski</td>\n",
       "      <td>85.0</td>\n",
       "    </tr>\n",
       "    <tr>\n",
       "      <th>4788</th>\n",
       "      <td>6000000</td>\n",
       "      <td>John Waters</td>\n",
       "      <td>93.0</td>\n",
       "    </tr>\n",
       "    <tr>\n",
       "      <th>4792</th>\n",
       "      <td>99000</td>\n",
       "      <td>Kiyoshi Kurosawa</td>\n",
       "      <td>111.0</td>\n",
       "    </tr>\n",
       "    <tr>\n",
       "      <th>4796</th>\n",
       "      <td>424760</td>\n",
       "      <td>Shane Carruth</td>\n",
       "      <td>77.0</td>\n",
       "    </tr>\n",
       "    <tr>\n",
       "      <th>4798</th>\n",
       "      <td>2040920</td>\n",
       "      <td>Robert Rodriguez</td>\n",
       "      <td>81.0</td>\n",
       "    </tr>\n",
       "  </tbody>\n",
       "</table>\n",
       "<p>3374 rows × 3 columns</p>\n",
       "</div>"
      ],
      "text/plain": [
       "         revenue           director  runtime\n",
       "0     2787965087      James Cameron    162.0\n",
       "1      961000000     Gore Verbinski    169.0\n",
       "2      880674609         Sam Mendes    148.0\n",
       "3     1084939099  Christopher Nolan    165.0\n",
       "4      284139100     Andrew Stanton    132.0\n",
       "...          ...                ...      ...\n",
       "4775       76901    Andrew Bujalski     85.0\n",
       "4788     6000000        John Waters     93.0\n",
       "4792       99000   Kiyoshi Kurosawa    111.0\n",
       "4796      424760      Shane Carruth     77.0\n",
       "4798     2040920   Robert Rodriguez     81.0\n",
       "\n",
       "[3374 rows x 3 columns]"
      ]
     },
     "execution_count": 5,
     "metadata": {},
     "output_type": "execute_result"
    }
   ],
   "source": [
    "movies_v1 = movies.loc[movies.revenue > 0 ,['revenue', 'director', 'runtime']]\n",
    "# valid_movies.isna().sum()\n",
    "movies_v2 = movies_v1.dropna(subset=['director'])\n",
    "# valid_movies\n",
    "movies_v2"
   ]
  },
  {
   "cell_type": "code",
   "execution_count": 6,
   "id": "ea672a15",
   "metadata": {},
   "outputs": [
    {
     "data": {
      "image/png": "[encoded data removed]",
      "text/plain": [
       "<Figure size 432x288 with 1 Axes>"
      ]
     },
     "metadata": {
      "needs_background": "light"
     },
     "output_type": "display_data"
    }
   ],
   "source": [
    "sns.histplot(data=movies_v2, x=\"revenue\")\n",
    "plt.show()"
   ]
  },
  {
   "cell_type": "code",
   "execution_count": 7,
   "id": "5fa0f449",
   "metadata": {},
   "outputs": [
    {
     "data": {
      "image/png": "[encoded data removed]",
      "text/plain": [
       "<Figure size 432x288 with 1 Axes>"
      ]
     },
     "metadata": {
      "needs_background": "light"
     },
     "output_type": "display_data"
    }
   ],
   "source": [
    "sns.scatterplot(data=movies_v2, x=\"runtime\", y=\"revenue\")\n",
    "plt.show()"
   ]
  },
  {
   "cell_type": "code",
   "execution_count": 8,
   "id": "514a6076",
   "metadata": {},
   "outputs": [
    {
     "data": {
      "text/plain": [
       "35"
      ]
     },
     "execution_count": 8,
     "metadata": {},
     "output_type": "execute_result"
    }
   ],
   "source": [
    "movies_zero_runtime = movies.loc[movies.runtime == 0]\n",
    "movies_zero_runtime['id'].count()"
   ]
  },
  {
   "cell_type": "markdown",
   "id": "8880dcf2",
   "metadata": {},
   "source": [
    "# --------------- Try 2 ---------------\n",
    "\n",
    "In this section we remove all the movies with vote_count below 100"
   ]
  },
  {
   "cell_type": "code",
   "execution_count": 9,
   "id": "bb49f482",
   "metadata": {},
   "outputs": [
    {
     "data": {
      "text/html": [
       "<div>\n",
       "<style scoped>\n",
       "    .dataframe tbody tr th:only-of-type {\n",
       "        vertical-align: middle;\n",
       "    }\n",
       "\n",
       "    .dataframe tbody tr th {\n",
       "        vertical-align: top;\n",
       "    }\n",
       "\n",
       "    .dataframe thead th {\n",
       "        text-align: right;\n",
       "    }\n",
       "</style>\n",
       "<table border=\"1\" class=\"dataframe\">\n",
       "  <thead>\n",
       "    <tr style=\"text-align: right;\">\n",
       "      <th></th>\n",
       "      <th>runtime</th>\n",
       "      <th>label</th>\n",
       "    </tr>\n",
       "  </thead>\n",
       "  <tbody>\n",
       "    <tr>\n",
       "      <th>0</th>\n",
       "      <td>162.0</td>\n",
       "      <td>1</td>\n",
       "    </tr>\n",
       "    <tr>\n",
       "      <th>1</th>\n",
       "      <td>169.0</td>\n",
       "      <td>-1</td>\n",
       "    </tr>\n",
       "    <tr>\n",
       "      <th>2</th>\n",
       "      <td>148.0</td>\n",
       "      <td>-1</td>\n",
       "    </tr>\n",
       "    <tr>\n",
       "      <th>3</th>\n",
       "      <td>165.0</td>\n",
       "      <td>1</td>\n",
       "    </tr>\n",
       "    <tr>\n",
       "      <th>4</th>\n",
       "      <td>132.0</td>\n",
       "      <td>-1</td>\n",
       "    </tr>\n",
       "    <tr>\n",
       "      <th>...</th>\n",
       "      <td>...</td>\n",
       "      <td>...</td>\n",
       "    </tr>\n",
       "    <tr>\n",
       "      <th>4773</th>\n",
       "      <td>92.0</td>\n",
       "      <td>1</td>\n",
       "    </tr>\n",
       "    <tr>\n",
       "      <th>4778</th>\n",
       "      <td>85.0</td>\n",
       "      <td>-1</td>\n",
       "    </tr>\n",
       "    <tr>\n",
       "      <th>4788</th>\n",
       "      <td>93.0</td>\n",
       "      <td>-1</td>\n",
       "    </tr>\n",
       "    <tr>\n",
       "      <th>4796</th>\n",
       "      <td>77.0</td>\n",
       "      <td>-1</td>\n",
       "    </tr>\n",
       "    <tr>\n",
       "      <th>4798</th>\n",
       "      <td>81.0</td>\n",
       "      <td>-1</td>\n",
       "    </tr>\n",
       "  </tbody>\n",
       "</table>\n",
       "<p>3162 rows × 2 columns</p>\n",
       "</div>"
      ],
      "text/plain": [
       "      runtime  label\n",
       "0       162.0      1\n",
       "1       169.0     -1\n",
       "2       148.0     -1\n",
       "3       165.0      1\n",
       "4       132.0     -1\n",
       "...       ...    ...\n",
       "4773     92.0      1\n",
       "4778     85.0     -1\n",
       "4788     93.0     -1\n",
       "4796     77.0     -1\n",
       "4798     81.0     -1\n",
       "\n",
       "[3162 rows x 2 columns]"
      ]
     },
     "execution_count": 9,
     "metadata": {},
     "output_type": "execute_result"
    }
   ],
   "source": [
    "labels = []\n",
    "threshold = 7\n",
    "for i in movies['vote_average']:\n",
    "    labels.append(1) if i >= threshold else labels.append(-1)\n",
    "movies['label'] = labels\n",
    "movies_v2 = movies.loc[(movies.vote_count >= 100), ['runtime', 'label']]\n",
    "movies_v2"
   ]
  },
  {
   "cell_type": "markdown",
   "id": "e950621d",
   "metadata": {},
   "source": [
    "***Using SVM***"
   ]
  },
  {
   "cell_type": "code",
   "execution_count": 10,
   "id": "27f05b81",
   "metadata": {},
   "outputs": [],
   "source": [
    "X_train, X_test, y_train, y_test = train_test_split(movies_v2[['runtime']], movies_v2['label'], test_size=0.1, random_state=0)"
   ]
  },
  {
   "cell_type": "code",
   "execution_count": 11,
   "id": "43a8a0bd",
   "metadata": {},
   "outputs": [
    {
     "data": {
      "text/plain": [
       "0.8233438485804416"
      ]
     },
     "execution_count": 11,
     "metadata": {},
     "output_type": "execute_result"
    }
   ],
   "source": [
    "svm_ = svm.SVC(C=1, random_state=0)\n",
    "svm_.fit(X_train, y_train)\n",
    "svm_.score(X_test, y_test)"
   ]
  },
  {
   "cell_type": "code",
   "execution_count": 12,
   "id": "976dfb0d",
   "metadata": {},
   "outputs": [
    {
     "name": "stdout",
     "output_type": "stream",
     "text": [
      "Accuracy: 0.8233438485804416\n",
      "Precision: 0.7111419508326724\n",
      "Recall: 0.6035992217898833\n",
      "F1-score: 0.6233237141402139\n"
     ]
    },
    {
     "data": {
      "image/png": "[encoded data removed]",
      "text/plain": [
       "<Figure size 432x288 with 1 Axes>"
      ]
     },
     "metadata": {
      "needs_background": "light"
     },
     "output_type": "display_data"
    }
   ],
   "source": [
    "y_pred = svm_.predict(X_test)\n",
    "\n",
    "plt.scatter(X_test['runtime'], y_test,color='g') \n",
    "\n",
    "plt.scatter(X_test['runtime'], y_pred,color='k') \n",
    "\n",
    "accuracy = accuracy_score(y_test, y_pred)\n",
    "precision = precision_score(y_test, y_pred, average=\"macro\")\n",
    "recall = recall_score(y_test, y_pred, average=\"macro\")\n",
    "f1 = f1_score(y_test, y_pred, average=\"macro\")\n",
    "\n",
    "print(\"Accuracy:\", accuracy)\n",
    "print(\"Precision:\", precision)\n",
    "print(\"Recall:\", recall)\n",
    "print(\"F1-score:\", f1)"
   ]
  },
  {
   "cell_type": "markdown",
   "id": "2d76ef8e",
   "metadata": {},
   "source": [
    "***Using Perceptron algortithm***"
   ]
  },
  {
   "cell_type": "code",
   "execution_count": 13,
   "id": "bfd3e0c0",
   "metadata": {},
   "outputs": [
    {
     "data": {
      "text/plain": [
       "0.8107255520504731"
      ]
     },
     "execution_count": 13,
     "metadata": {},
     "output_type": "execute_result"
    }
   ],
   "source": [
    "perceptron = Perceptron(tol=1e-3, random_state=0)\n",
    "perceptron.fit(X_train, y_train)\n",
    "perceptron.score(X_test, y_test)"
   ]
  },
  {
   "cell_type": "code",
   "execution_count": 14,
   "id": "eee10f22",
   "metadata": {},
   "outputs": [
    {
     "name": "stdout",
     "output_type": "stream",
     "text": [
      "Accuracy: 0.8107255520504731\n",
      "Precision: 0.40536277602523657\n",
      "Recall: 0.5\n",
      "F1-score: 0.4477351916376307\n"
     ]
    },
    {
     "name": "stderr",
     "output_type": "stream",
     "text": [
      "C:\\Users\\Home\\AppData\\Local\\Programs\\Python\\Python310\\lib\\site-packages\\sklearn\\metrics\\_classification.py:1344: UndefinedMetricWarning: Precision is ill-defined and being set to 0.0 in labels with no predicted samples. Use `zero_division` parameter to control this behavior.\n",
      "  _warn_prf(average, modifier, msg_start, len(result))\n"
     ]
    },
    {
     "data": {
      "image/png": "[encoded data removed]",
      "text/plain": [
       "<Figure size 432x288 with 1 Axes>"
      ]
     },
     "metadata": {
      "needs_background": "light"
     },
     "output_type": "display_data"
    }
   ],
   "source": [
    "y_pred = perceptron.predict(X_test)\n",
    "\n",
    "plt.scatter(X_test['runtime'], y_test,color='g') \n",
    "\n",
    "plt.scatter(X_test['runtime'], y_pred,color='k') \n",
    "\n",
    "accuracy = accuracy_score(y_test, y_pred)\n",
    "precision = precision_score(y_test, y_pred, average=\"macro\")\n",
    "recall = recall_score(y_test, y_pred, average=\"macro\")\n",
    "f1 = f1_score(y_test, y_pred, average=\"macro\")\n",
    "\n",
    "print(\"Accuracy:\", accuracy)\n",
    "print(\"Precision:\", precision)\n",
    "print(\"Recall:\", recall)\n",
    "print(\"F1-score:\", f1)"
   ]
  },
  {
   "cell_type": "markdown",
   "id": "dadae44b",
   "metadata": {},
   "source": [
    "# --------------- Try 3 ---------------\n",
    "\n",
    "In this section we try other Kernel in the SVM model, also removing movies with less than 1M in the revenue, it reduce drastically the amount of movies."
   ]
  },
  {
   "cell_type": "code",
   "execution_count": 16,
   "id": "efbd58e5",
   "metadata": {},
   "outputs": [
    {
     "data": {
      "text/html": [
       "<div>\n",
       "<style scoped>\n",
       "    .dataframe tbody tr th:only-of-type {\n",
       "        vertical-align: middle;\n",
       "    }\n",
       "\n",
       "    .dataframe tbody tr th {\n",
       "        vertical-align: top;\n",
       "    }\n",
       "\n",
       "    .dataframe thead th {\n",
       "        text-align: right;\n",
       "    }\n",
       "</style>\n",
       "<table border=\"1\" class=\"dataframe\">\n",
       "  <thead>\n",
       "    <tr style=\"text-align: right;\">\n",
       "      <th></th>\n",
       "      <th>runtime</th>\n",
       "      <th>label</th>\n",
       "    </tr>\n",
       "  </thead>\n",
       "  <tbody>\n",
       "    <tr>\n",
       "      <th>0</th>\n",
       "      <td>162.0</td>\n",
       "      <td>1</td>\n",
       "    </tr>\n",
       "    <tr>\n",
       "      <th>1</th>\n",
       "      <td>169.0</td>\n",
       "      <td>-1</td>\n",
       "    </tr>\n",
       "    <tr>\n",
       "      <th>2</th>\n",
       "      <td>148.0</td>\n",
       "      <td>-1</td>\n",
       "    </tr>\n",
       "    <tr>\n",
       "      <th>3</th>\n",
       "      <td>165.0</td>\n",
       "      <td>1</td>\n",
       "    </tr>\n",
       "    <tr>\n",
       "      <th>4</th>\n",
       "      <td>132.0</td>\n",
       "      <td>-1</td>\n",
       "    </tr>\n",
       "    <tr>\n",
       "      <th>...</th>\n",
       "      <td>...</td>\n",
       "      <td>...</td>\n",
       "    </tr>\n",
       "    <tr>\n",
       "      <th>4738</th>\n",
       "      <td>84.0</td>\n",
       "      <td>1</td>\n",
       "    </tr>\n",
       "    <tr>\n",
       "      <th>4742</th>\n",
       "      <td>100.0</td>\n",
       "      <td>-1</td>\n",
       "    </tr>\n",
       "    <tr>\n",
       "      <th>4773</th>\n",
       "      <td>92.0</td>\n",
       "      <td>1</td>\n",
       "    </tr>\n",
       "    <tr>\n",
       "      <th>4788</th>\n",
       "      <td>93.0</td>\n",
       "      <td>-1</td>\n",
       "    </tr>\n",
       "    <tr>\n",
       "      <th>4798</th>\n",
       "      <td>81.0</td>\n",
       "      <td>-1</td>\n",
       "    </tr>\n",
       "  </tbody>\n",
       "</table>\n",
       "<p>2732 rows × 2 columns</p>\n",
       "</div>"
      ],
      "text/plain": [
       "      runtime  label\n",
       "0       162.0      1\n",
       "1       169.0     -1\n",
       "2       148.0     -1\n",
       "3       165.0      1\n",
       "4       132.0     -1\n",
       "...       ...    ...\n",
       "4738     84.0      1\n",
       "4742    100.0     -1\n",
       "4773     92.0      1\n",
       "4788     93.0     -1\n",
       "4798     81.0     -1\n",
       "\n",
       "[2732 rows x 2 columns]"
      ]
     },
     "execution_count": 16,
     "metadata": {},
     "output_type": "execute_result"
    }
   ],
   "source": [
    "labels = []\n",
    "threshold = 7\n",
    "for i in movies['vote_average']:\n",
    "    labels.append(1) if i >= threshold else labels.append(-1)\n",
    "movies['label'] = labels\n",
    "movies_v3 = movies.loc[(movies.revenue >= 1000000) & (movies.vote_count >= 100), ['runtime', 'label']]\n",
    "movies_v3"
   ]
  },
  {
   "cell_type": "markdown",
   "id": "bf7c9de1",
   "metadata": {},
   "source": [
    "# Implementation of SVM\n",
    "https://towardsdatascience.com/get-into-shape-14637fe1cd32"
   ]
  },
  {
   "cell_type": "code",
   "execution_count": 17,
   "id": "6bd50a5f",
   "metadata": {},
   "outputs": [],
   "source": [
    "X_train, X_test, y_train, y_test = train_test_split(movies_v3[['runtime']], movies_v3['label'], test_size=0.1, random_state=0)"
   ]
  },
  {
   "cell_type": "code",
   "execution_count": 18,
   "id": "adeae551",
   "metadata": {},
   "outputs": [
    {
     "data": {
      "text/plain": [
       "0.7664233576642335"
      ]
     },
     "execution_count": 18,
     "metadata": {},
     "output_type": "execute_result"
    }
   ],
   "source": [
    "# svm_ = svm.SVC(kernel='linear', C=1, random_state=42)\n",
    "svm_ = svm.SVC(C=1, random_state=42)\n",
    "svm_.fit(X_train, y_train)\n",
    "svm_.score(X_test, y_test)"
   ]
  },
  {
   "cell_type": "code",
   "execution_count": 19,
   "id": "362c7594",
   "metadata": {
    "scrolled": true
   },
   "outputs": [
    {
     "name": "stdout",
     "output_type": "stream",
     "text": [
      "Accuracy: 0.7664233576642335\n",
      "Precision: 0.6947860730989087\n",
      "Recall: 0.5794980558501237\n",
      "F1-score: 0.581998474446987\n"
     ]
    },
    {
     "data": {
      "image/png": "[encoded data removed]",
      "text/plain": [
       "<Figure size 432x288 with 1 Axes>"
      ]
     },
     "metadata": {
      "needs_background": "light"
     },
     "output_type": "display_data"
    }
   ],
   "source": [
    "y_pred = svm_.predict(X_test)\n",
    "\n",
    "plt.scatter(X_test['runtime'], y_test,color='g') \n",
    "\n",
    "plt.scatter(X_test['runtime'], y_pred,color='k') \n",
    "\n",
    "accuracy = accuracy_score(y_test, y_pred)\n",
    "precision = precision_score(y_test, y_pred, average=\"macro\")\n",
    "recall = recall_score(y_test, y_pred, average=\"macro\")\n",
    "f1 = f1_score(y_test, y_pred, average=\"macro\")\n",
    "\n",
    "print(\"Accuracy:\", accuracy)\n",
    "print(\"Precision:\", precision)\n",
    "print(\"Recall:\", recall)\n",
    "print(\"F1-score:\", f1)"
   ]
  },
  {
   "cell_type": "markdown",
   "id": "ee58c914",
   "metadata": {},
   "source": [
    "# Implementation using Perceptron algorithm"
   ]
  },
  {
   "cell_type": "code",
   "execution_count": 20,
   "id": "eb510116",
   "metadata": {},
   "outputs": [
    {
     "data": {
      "text/plain": [
       "0.7481751824817519"
      ]
     },
     "execution_count": 20,
     "metadata": {},
     "output_type": "execute_result"
    }
   ],
   "source": [
    "perceptron = Perceptron(tol=1e-3, random_state=0)\n",
    "perceptron.fit(X_train, y_train)\n",
    "perceptron.score(X_test, y_test)"
   ]
  },
  {
   "cell_type": "code",
   "execution_count": 21,
   "id": "579ae331",
   "metadata": {},
   "outputs": [
    {
     "name": "stdout",
     "output_type": "stream",
     "text": [
      "Accuracy: 0.7481751824817519\n",
      "Precision: 0.3740875912408759\n",
      "Recall: 0.5\n",
      "F1-score: 0.4279749478079332\n"
     ]
    },
    {
     "name": "stderr",
     "output_type": "stream",
     "text": [
      "C:\\Users\\Home\\AppData\\Local\\Programs\\Python\\Python310\\lib\\site-packages\\sklearn\\metrics\\_classification.py:1344: UndefinedMetricWarning: Precision is ill-defined and being set to 0.0 in labels with no predicted samples. Use `zero_division` parameter to control this behavior.\n",
      "  _warn_prf(average, modifier, msg_start, len(result))\n"
     ]
    },
    {
     "data": {
      "image/png": "[encoded data removed]",
      "text/plain": [
       "<Figure size 432x288 with 1 Axes>"
      ]
     },
     "metadata": {
      "needs_background": "light"
     },
     "output_type": "display_data"
    }
   ],
   "source": [
    "y_pred = perceptron.predict(X_test)\n",
    "\n",
    "plt.scatter(X_test['runtime'], y_test,color='g') \n",
    "\n",
    "plt.scatter(X_test['runtime'], y_pred,color='k') \n",
    "\n",
    "accuracy = accuracy_score(y_test, y_pred)\n",
    "precision = precision_score(y_test, y_pred, average=\"macro\")\n",
    "recall = recall_score(y_test, y_pred, average=\"macro\")\n",
    "f1 = f1_score(y_test, y_pred, average=\"macro\")\n",
    "\n",
    "print(\"Accuracy:\", accuracy)\n",
    "print(\"Precision:\", precision)\n",
    "print(\"Recall:\", recall)\n",
    "print(\"F1-score:\", f1)"
   ]
  },
  {
   "cell_type": "code",
   "execution_count": 22,
   "id": "e1974754",
   "metadata": {},
   "outputs": [
    {
     "name": "stdout",
     "output_type": "stream",
     "text": [
      "              precision    recall  f1-score   support\n",
      "\n",
      "          -1       0.75      1.00      0.86       205\n",
      "\n",
      "   micro avg       0.75      1.00      0.86       205\n",
      "   macro avg       0.75      1.00      0.86       205\n",
      "weighted avg       0.75      1.00      0.86       205\n",
      "\n"
     ]
    }
   ],
   "source": [
    "print(classification_report(y_test,y_pred,labels=np.unique(y_pred)))"
   ]
  },
  {
   "cell_type": "code",
   "execution_count": null,
   "id": "076b537c",
   "metadata": {},
   "outputs": [],
   "source": []
  },
  {
   "cell_type": "markdown",
   "id": "f5c8565f",
   "metadata": {},
   "source": [
    "# --------------- Try 4 ---------------\n",
    "\n",
    "In this section we try multiple features"
   ]
  },
  {
   "cell_type": "markdown",
   "id": "1a1833e3",
   "metadata": {},
   "source": [
    "In the next cell we can see that the number of movies where the number of ratings are larger than 100 and have a revenue bigger than 200M$ dollars is 564."
   ]
  },
  {
   "cell_type": "code",
   "execution_count": 27,
   "id": "07085982",
   "metadata": {},
   "outputs": [
    {
     "data": {
      "text/html": [
       "<div>\n",
       "<style scoped>\n",
       "    .dataframe tbody tr th:only-of-type {\n",
       "        vertical-align: middle;\n",
       "    }\n",
       "\n",
       "    .dataframe tbody tr th {\n",
       "        vertical-align: top;\n",
       "    }\n",
       "\n",
       "    .dataframe thead th {\n",
       "        text-align: right;\n",
       "    }\n",
       "</style>\n",
       "<table border=\"1\" class=\"dataframe\">\n",
       "  <thead>\n",
       "    <tr style=\"text-align: right;\">\n",
       "      <th></th>\n",
       "      <th>runtime</th>\n",
       "      <th>vote_average</th>\n",
       "      <th>vote_count</th>\n",
       "    </tr>\n",
       "  </thead>\n",
       "  <tbody>\n",
       "    <tr>\n",
       "      <th>0</th>\n",
       "      <td>162.0</td>\n",
       "      <td>7.2</td>\n",
       "      <td>11800</td>\n",
       "    </tr>\n",
       "    <tr>\n",
       "      <th>1</th>\n",
       "      <td>169.0</td>\n",
       "      <td>6.9</td>\n",
       "      <td>4500</td>\n",
       "    </tr>\n",
       "    <tr>\n",
       "      <th>2</th>\n",
       "      <td>148.0</td>\n",
       "      <td>6.3</td>\n",
       "      <td>4466</td>\n",
       "    </tr>\n",
       "    <tr>\n",
       "      <th>3</th>\n",
       "      <td>165.0</td>\n",
       "      <td>7.6</td>\n",
       "      <td>9106</td>\n",
       "    </tr>\n",
       "    <tr>\n",
       "      <th>4</th>\n",
       "      <td>132.0</td>\n",
       "      <td>6.1</td>\n",
       "      <td>2124</td>\n",
       "    </tr>\n",
       "    <tr>\n",
       "      <th>...</th>\n",
       "      <td>...</td>\n",
       "      <td>...</td>\n",
       "      <td>...</td>\n",
       "    </tr>\n",
       "    <tr>\n",
       "      <th>3696</th>\n",
       "      <td>117.0</td>\n",
       "      <td>6.6</td>\n",
       "      <td>632</td>\n",
       "    </tr>\n",
       "    <tr>\n",
       "      <th>3813</th>\n",
       "      <td>238.0</td>\n",
       "      <td>7.7</td>\n",
       "      <td>970</td>\n",
       "    </tr>\n",
       "    <tr>\n",
       "      <th>3824</th>\n",
       "      <td>91.0</td>\n",
       "      <td>6.8</td>\n",
       "      <td>363</td>\n",
       "    </tr>\n",
       "    <tr>\n",
       "      <th>4441</th>\n",
       "      <td>70.0</td>\n",
       "      <td>6.8</td>\n",
       "      <td>1405</td>\n",
       "    </tr>\n",
       "    <tr>\n",
       "      <th>4496</th>\n",
       "      <td>81.0</td>\n",
       "      <td>6.3</td>\n",
       "      <td>1055</td>\n",
       "    </tr>\n",
       "  </tbody>\n",
       "</table>\n",
       "<p>564 rows × 3 columns</p>\n",
       "</div>"
      ],
      "text/plain": [
       "      runtime  vote_average  vote_count\n",
       "0       162.0           7.2       11800\n",
       "1       169.0           6.9        4500\n",
       "2       148.0           6.3        4466\n",
       "3       165.0           7.6        9106\n",
       "4       132.0           6.1        2124\n",
       "...       ...           ...         ...\n",
       "3696    117.0           6.6         632\n",
       "3813    238.0           7.7         970\n",
       "3824     91.0           6.8         363\n",
       "4441     70.0           6.8        1405\n",
       "4496     81.0           6.3        1055\n",
       "\n",
       "[564 rows x 3 columns]"
      ]
     },
     "execution_count": 27,
     "metadata": {},
     "output_type": "execute_result"
    }
   ],
   "source": [
    "movies_v4 = movies.loc[(movies.revenue > 200000000) & (movies.vote_count > 100), ['runtime', 'vote_average', 'vote_count']]\n",
    "movies_v4"
   ]
  },
  {
   "cell_type": "markdown",
   "id": "bfb50ecf",
   "metadata": {},
   "source": [
    "# Implementation of SVM \n",
    "\n",
    "Need to run the movies_v4 box\n",
    "On the dataset to determine if a movie was \"successfull\" or not"
   ]
  },
  {
   "cell_type": "code",
   "execution_count": 28,
   "id": "70268a7f",
   "metadata": {},
   "outputs": [],
   "source": [
    "# First we need to create the labels, our threshold for successfull movie is: 7\n",
    "threshold = 7\n",
    "y = []\n",
    "for i in movies_v4['vote_average']:\n",
    "    y.append(1) if i >= threshold else y.append(-1)"
   ]
  },
  {
   "cell_type": "markdown",
   "id": "011b4da7",
   "metadata": {},
   "source": [
    "Splitting the data int two sets, 1 for training and the other for the test"
   ]
  },
  {
   "cell_type": "code",
   "execution_count": 25,
   "id": "52bb91f0",
   "metadata": {},
   "outputs": [
    {
     "data": {
      "image/png": "[encoded data removed]",
      "text/plain": [
       "<Figure size 432x288 with 1 Axes>"
      ]
     },
     "metadata": {
      "needs_background": "light"
     },
     "output_type": "display_data"
    }
   ],
   "source": [
    "X_train, X_test, y_train, y_test = train_test_split(movies_v4, y, test_size=0.1, random_state=0)\n",
    "\n",
    "sns.scatterplot(data=X_train, x='runtime', y='vote_average')\n",
    "\n",
    "plt.show()"
   ]
  },
  {
   "cell_type": "markdown",
   "id": "fee3462b",
   "metadata": {},
   "source": [
    "As we can see there is no rating above 8.5, the data set is very limited.\n",
    "\n",
    "It seems that longer movies have higher ratings."
   ]
  },
  {
   "cell_type": "markdown",
   "id": "dffb3391",
   "metadata": {},
   "source": [
    "# Running the SVM algorithm\n",
    "\n",
    "To measure the Model score we searched here:\n",
    "https://scikit-learn.org/stable/modules/cross_validation.html\n",
    "\n",
    "We tried varius kernels and we got to conclusion that linear kernel gives the best results."
   ]
  },
  {
   "cell_type": "code",
   "execution_count": 26,
   "id": "fc411a36",
   "metadata": {},
   "outputs": [
    {
     "data": {
      "text/plain": [
       "0.9824561403508771"
      ]
     },
     "execution_count": 26,
     "metadata": {},
     "output_type": "execute_result"
    }
   ],
   "source": [
    "svm_ = svm.SVC(kernel='linear', C=1, random_state=0) # random_state=42 gives us a very good results\n",
    "# svm_ = svm.SVC(C=1, random_state=42)\n",
    "svm_.fit(X_train, y_train)\n",
    "svm_.score(X_test, y_test)"
   ]
  },
  {
   "cell_type": "code",
   "execution_count": 29,
   "id": "5b282ef9",
   "metadata": {},
   "outputs": [
    {
     "name": "stdout",
     "output_type": "stream",
     "text": [
      "Accuracy: 0.9824561403508771\n",
      "Precision: 0.9772727272727273\n",
      "Recall: 0.9861111111111112\n",
      "F1-score: 0.981329839502129\n"
     ]
    },
    {
     "data": {
      "image/png": "[encoded data removed]",
      "text/plain": [
       "<Figure size 432x288 with 1 Axes>"
      ]
     },
     "metadata": {
      "needs_background": "light"
     },
     "output_type": "display_data"
    }
   ],
   "source": [
    "y_pred = svm_.predict(X_test)\n",
    "\n",
    "plt.scatter(X_test['runtime'], y_test,color='g') \n",
    "\n",
    "plt.scatter(X_test['runtime'], y_pred,color='k') \n",
    "\n",
    "accuracy = accuracy_score(y_test, y_pred)\n",
    "precision = precision_score(y_test, y_pred, average=\"macro\")\n",
    "recall = recall_score(y_test, y_pred, average=\"macro\")\n",
    "f1 = f1_score(y_test, y_pred, average=\"macro\")\n",
    "\n",
    "print(\"Accuracy:\", accuracy)\n",
    "print(\"Precision:\", precision)\n",
    "print(\"Recall:\", recall)\n",
    "print(\"F1-score:\", f1)"
   ]
  },
  {
   "cell_type": "markdown",
   "id": "14d7c404",
   "metadata": {},
   "source": [
    "# Implementation using Perceptron algorithm"
   ]
  },
  {
   "cell_type": "code",
   "execution_count": 30,
   "id": "908af71d",
   "metadata": {},
   "outputs": [
    {
     "data": {
      "text/plain": [
       "0.631578947368421"
      ]
     },
     "execution_count": 30,
     "metadata": {},
     "output_type": "execute_result"
    }
   ],
   "source": [
    "preceptron = Perceptron(tol=1e-3, random_state=36)\n",
    "preceptron.fit(X_train, y_train)\n",
    "preceptron.score(X_test, y_test)"
   ]
  },
  {
   "cell_type": "code",
   "execution_count": 31,
   "id": "d9420590",
   "metadata": {},
   "outputs": [
    {
     "name": "stdout",
     "output_type": "stream",
     "text": [
      "Accuracy: 0.631578947368421\n",
      "Precision: 0.3157894736842105\n",
      "Recall: 0.5\n",
      "F1-score: 0.3870967741935484\n"
     ]
    },
    {
     "name": "stderr",
     "output_type": "stream",
     "text": [
      "C:\\Users\\Home\\AppData\\Local\\Programs\\Python\\Python310\\lib\\site-packages\\sklearn\\metrics\\_classification.py:1344: UndefinedMetricWarning: Precision is ill-defined and being set to 0.0 in labels with no predicted samples. Use `zero_division` parameter to control this behavior.\n",
      "  _warn_prf(average, modifier, msg_start, len(result))\n"
     ]
    },
    {
     "data": {
      "image/png": "[encoded data removed]",
      "text/plain": [
       "<Figure size 432x288 with 1 Axes>"
      ]
     },
     "metadata": {
      "needs_background": "light"
     },
     "output_type": "display_data"
    }
   ],
   "source": [
    "y_pred = preceptron.predict(X_test)\n",
    "\n",
    "plt.scatter(X_test['runtime'], y_test,color='g') \n",
    "\n",
    "plt.scatter(X_test['runtime'], y_pred,color='k') \n",
    "\n",
    "accuracy = accuracy_score(y_test, y_pred)\n",
    "precision = precision_score(y_test, y_pred, average=\"macro\")\n",
    "recall = recall_score(y_test, y_pred, average=\"macro\")\n",
    "f1 = f1_score(y_test, y_pred, average=\"macro\")\n",
    "\n",
    "print(\"Accuracy:\", accuracy)\n",
    "print(\"Precision:\", precision)\n",
    "print(\"Recall:\", recall)\n",
    "print(\"F1-score:\", f1)"
   ]
  },
  {
   "cell_type": "markdown",
   "id": "0c08da18",
   "metadata": {},
   "source": [
    "# --------------- Try 5 ---------------\n",
    "\n",
    "Same as implementation number 4 buy only with other features.\n"
   ]
  },
  {
   "cell_type": "code",
   "execution_count": 32,
   "id": "fd5ca2c2",
   "metadata": {},
   "outputs": [
    {
     "data": {
      "text/html": [
       "<div>\n",
       "<style scoped>\n",
       "    .dataframe tbody tr th:only-of-type {\n",
       "        vertical-align: middle;\n",
       "    }\n",
       "\n",
       "    .dataframe tbody tr th {\n",
       "        vertical-align: top;\n",
       "    }\n",
       "\n",
       "    .dataframe thead th {\n",
       "        text-align: right;\n",
       "    }\n",
       "</style>\n",
       "<table border=\"1\" class=\"dataframe\">\n",
       "  <thead>\n",
       "    <tr style=\"text-align: right;\">\n",
       "      <th></th>\n",
       "      <th>runtime</th>\n",
       "      <th>popularity</th>\n",
       "      <th>vote_average</th>\n",
       "    </tr>\n",
       "  </thead>\n",
       "  <tbody>\n",
       "    <tr>\n",
       "      <th>0</th>\n",
       "      <td>162.0</td>\n",
       "      <td>150.437577</td>\n",
       "      <td>7.2</td>\n",
       "    </tr>\n",
       "    <tr>\n",
       "      <th>1</th>\n",
       "      <td>169.0</td>\n",
       "      <td>139.082615</td>\n",
       "      <td>6.9</td>\n",
       "    </tr>\n",
       "    <tr>\n",
       "      <th>2</th>\n",
       "      <td>148.0</td>\n",
       "      <td>107.376788</td>\n",
       "      <td>6.3</td>\n",
       "    </tr>\n",
       "    <tr>\n",
       "      <th>3</th>\n",
       "      <td>165.0</td>\n",
       "      <td>112.312950</td>\n",
       "      <td>7.6</td>\n",
       "    </tr>\n",
       "    <tr>\n",
       "      <th>4</th>\n",
       "      <td>132.0</td>\n",
       "      <td>43.926995</td>\n",
       "      <td>6.1</td>\n",
       "    </tr>\n",
       "    <tr>\n",
       "      <th>...</th>\n",
       "      <td>...</td>\n",
       "      <td>...</td>\n",
       "      <td>...</td>\n",
       "    </tr>\n",
       "    <tr>\n",
       "      <th>4773</th>\n",
       "      <td>92.0</td>\n",
       "      <td>19.748658</td>\n",
       "      <td>7.4</td>\n",
       "    </tr>\n",
       "    <tr>\n",
       "      <th>4778</th>\n",
       "      <td>85.0</td>\n",
       "      <td>7.101197</td>\n",
       "      <td>6.0</td>\n",
       "    </tr>\n",
       "    <tr>\n",
       "      <th>4788</th>\n",
       "      <td>93.0</td>\n",
       "      <td>4.553644</td>\n",
       "      <td>6.2</td>\n",
       "    </tr>\n",
       "    <tr>\n",
       "      <th>4796</th>\n",
       "      <td>77.0</td>\n",
       "      <td>23.307949</td>\n",
       "      <td>6.9</td>\n",
       "    </tr>\n",
       "    <tr>\n",
       "      <th>4798</th>\n",
       "      <td>81.0</td>\n",
       "      <td>14.269792</td>\n",
       "      <td>6.6</td>\n",
       "    </tr>\n",
       "  </tbody>\n",
       "</table>\n",
       "<p>3162 rows × 3 columns</p>\n",
       "</div>"
      ],
      "text/plain": [
       "      runtime  popularity  vote_average\n",
       "0       162.0  150.437577           7.2\n",
       "1       169.0  139.082615           6.9\n",
       "2       148.0  107.376788           6.3\n",
       "3       165.0  112.312950           7.6\n",
       "4       132.0   43.926995           6.1\n",
       "...       ...         ...           ...\n",
       "4773     92.0   19.748658           7.4\n",
       "4778     85.0    7.101197           6.0\n",
       "4788     93.0    4.553644           6.2\n",
       "4796     77.0   23.307949           6.9\n",
       "4798     81.0   14.269792           6.6\n",
       "\n",
       "[3162 rows x 3 columns]"
      ]
     },
     "execution_count": 32,
     "metadata": {},
     "output_type": "execute_result"
    }
   ],
   "source": [
    "movies_v5 = movies.loc[movies.vote_count >= 100, ['runtime', 'popularity', 'vote_average']]\n",
    "movies_v5"
   ]
  },
  {
   "cell_type": "code",
   "execution_count": 33,
   "id": "327a2ae1",
   "metadata": {},
   "outputs": [
    {
     "data": {
      "image/png": "[encoded data removed]",
      "text/plain": [
       "<Figure size 432x288 with 1 Axes>"
      ]
     },
     "metadata": {
      "needs_background": "light"
     },
     "output_type": "display_data"
    }
   ],
   "source": [
    "threshold = 7\n",
    "y = []\n",
    "for i in movies_v5['vote_average']:\n",
    "    y.append(1) if i >= threshold else y.append(-1)\n",
    "    \n",
    "X_train, X_test, y_train, y_test = train_test_split(movies_v5[['runtime', 'popularity']], y, test_size=0.1, random_state=0)\n",
    "\n",
    "sns.scatterplot(data=X_train, x='runtime', y='popularity')\n",
    "\n",
    "plt.show()"
   ]
  },
  {
   "cell_type": "markdown",
   "id": "ca265a45",
   "metadata": {},
   "source": [
    "***Using SVM***"
   ]
  },
  {
   "cell_type": "code",
   "execution_count": 34,
   "id": "cc8d83f2",
   "metadata": {},
   "outputs": [
    {
     "data": {
      "text/plain": [
       "0.832807570977918"
      ]
     },
     "execution_count": 34,
     "metadata": {},
     "output_type": "execute_result"
    }
   ],
   "source": [
    "# svm_ = svm.SVC(kernel='linear', C=1, random_state=0) # random_state=42 gives us a very good results\n",
    "svm_ = svm.SVC(C=1, random_state=42)\n",
    "svm_.fit(X_train, y_train)\n",
    "svm_.score(X_test, y_test)"
   ]
  },
  {
   "cell_type": "code",
   "execution_count": 35,
   "id": "b3558f8e",
   "metadata": {},
   "outputs": [
    {
     "name": "stdout",
     "output_type": "stream",
     "text": [
      "Accuracy: 0.832807570977918\n",
      "Precision: 0.7632462027552102\n",
      "Recall: 0.5966601815823606\n",
      "F1-score: 0.6168092142775686\n"
     ]
    },
    {
     "data": {
      "image/png": "[encoded data removed]",
      "text/plain": [
       "<Figure size 432x288 with 1 Axes>"
      ]
     },
     "metadata": {
      "needs_background": "light"
     },
     "output_type": "display_data"
    }
   ],
   "source": [
    "y_pred = svm_.predict(X_test)\n",
    "\n",
    "plt.scatter(X_test['runtime'], y_test,color='g') \n",
    "\n",
    "plt.scatter(X_test['runtime'], y_pred,color='k') \n",
    "\n",
    "accuracy = accuracy_score(y_test, y_pred)\n",
    "precision = precision_score(y_test, y_pred, average=\"macro\")\n",
    "recall = recall_score(y_test, y_pred, average=\"macro\")\n",
    "f1 = f1_score(y_test, y_pred, average=\"macro\")\n",
    "\n",
    "print(\"Accuracy:\", accuracy)\n",
    "print(\"Precision:\", precision)\n",
    "print(\"Recall:\", recall)\n",
    "print(\"F1-score:\", f1)"
   ]
  },
  {
   "cell_type": "markdown",
   "id": "3f6f4e43",
   "metadata": {},
   "source": [
    "***Using Perceptron***"
   ]
  },
  {
   "cell_type": "code",
   "execution_count": 38,
   "id": "687b21f9",
   "metadata": {},
   "outputs": [
    {
     "data": {
      "text/plain": [
       "0.804416403785489"
      ]
     },
     "execution_count": 38,
     "metadata": {},
     "output_type": "execute_result"
    }
   ],
   "source": [
    "preceptron = Perceptron(tol=1e-3, random_state=0)\n",
    "preceptron.fit(X_train, y_train)\n",
    "preceptron.score(X_test, y_test)"
   ]
  },
  {
   "cell_type": "code",
   "execution_count": 39,
   "id": "aeef7467",
   "metadata": {},
   "outputs": [
    {
     "name": "stdout",
     "output_type": "stream",
     "text": [
      "Accuracy: 0.804416403785489\n",
      "Precision: 0.5952669902912622\n",
      "Recall: 0.515272373540856\n",
      "F1-score: 0.4893473290376221\n"
     ]
    },
    {
     "data": {
      "image/png": "[encoded data removed]",
      "text/plain": [
       "<Figure size 432x288 with 1 Axes>"
      ]
     },
     "metadata": {
      "needs_background": "light"
     },
     "output_type": "display_data"
    }
   ],
   "source": [
    "y_pred = preceptron.predict(X_test)\n",
    "\n",
    "plt.scatter(X_test['runtime'], y_test,color='g') \n",
    "\n",
    "plt.scatter(X_test['runtime'], y_pred,color='k') \n",
    "\n",
    "accuracy = accuracy_score(y_test, y_pred)\n",
    "precision = precision_score(y_test, y_pred, average=\"macro\")\n",
    "recall = recall_score(y_test, y_pred, average=\"macro\")\n",
    "f1 = f1_score(y_test, y_pred, average=\"macro\")\n",
    "\n",
    "print(\"Accuracy:\", accuracy)\n",
    "print(\"Precision:\", precision)\n",
    "print(\"Recall:\", recall)\n",
    "print(\"F1-score:\", f1)"
   ]
  },
  {
   "cell_type": "code",
   "execution_count": null,
   "id": "c45973ca",
   "metadata": {},
   "outputs": [],
   "source": []
  }
 ],
 "metadata": {
  "kernelspec": {
   "display_name": "Python 3 (ipykernel)",
   "language": "python",
   "name": "python3"
  },
  "language_info": {
   "codemirror_mode": {
    "name": "ipython",
    "version": 3
   },
   "file_extension": ".py",
   "mimetype": "text/x-python",
   "name": "python",
   "nbconvert_exporter": "python",
   "pygments_lexer": "ipython3",
   "version": "3.10.2"
  }
 },
 "nbformat": 4,
 "nbformat_minor": 5
}
